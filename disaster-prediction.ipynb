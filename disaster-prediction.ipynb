{
 "cells": [
  {
   "cell_type": "code",
   "execution_count": 1,
   "id": "86f4aca5",
   "metadata": {
    "_cell_guid": "b1076dfc-b9ad-4769-8c92-a6c4dae69d19",
    "_uuid": "8f2839f25d086af736a60e9eeb907d3b93b6e0e5",
    "execution": {
     "iopub.execute_input": "2022-09-20T13:02:11.568617Z",
     "iopub.status.busy": "2022-09-20T13:02:11.568138Z",
     "iopub.status.idle": "2022-09-20T13:02:11.582766Z",
     "shell.execute_reply": "2022-09-20T13:02:11.581226Z"
    },
    "papermill": {
     "duration": 0.027105,
     "end_time": "2022-09-20T13:02:11.585414",
     "exception": false,
     "start_time": "2022-09-20T13:02:11.558309",
     "status": "completed"
    },
    "tags": []
   },
   "outputs": [
    {
     "name": "stdout",
     "output_type": "stream",
     "text": [
      "/kaggle/input/titanic/train.csv\n",
      "/kaggle/input/titanic/test.csv\n",
      "/kaggle/input/titanic/gender_submission.csv\n"
     ]
    }
   ],
   "source": [
    "# This Python 3 environment comes with many helpful analytics libraries installed\n",
    "# It is defined by the kaggle/python Docker image: https://github.com/kaggle/docker-python\n",
    "# For example, here's several helpful packages to load\n",
    "\n",
    "import numpy as np # linear algebra\n",
    "import pandas as pd # data processing, CSV file I/O (e.g. pd.read_csv)\n",
    "\n",
    "# Input data files are available in the read-only \"../input/\" directory\n",
    "# For example, running this (by clicking run or pressing Shift+Enter) will list all files under the input directory\n",
    "\n",
    "import os\n",
    "for dirname, _, filenames in os.walk('/kaggle/input'):\n",
    "    for filename in filenames:\n",
    "        print(os.path.join(dirname, filename))\n",
    "\n",
    "# You can write up to 20GB to the current directory (/kaggle/working/) that gets preserved as output when you create a version using \"Save & Run All\" \n",
    "# You can also write temporary files to /kaggle/temp/, but they won't be saved outside of the current session"
   ]
  },
  {
   "cell_type": "code",
   "execution_count": 2,
   "id": "afa28c58",
   "metadata": {
    "execution": {
     "iopub.execute_input": "2022-09-20T13:02:11.602553Z",
     "iopub.status.busy": "2022-09-20T13:02:11.602141Z",
     "iopub.status.idle": "2022-09-20T13:02:11.651840Z",
     "shell.execute_reply": "2022-09-20T13:02:11.650533Z"
    },
    "papermill": {
     "duration": 0.061573,
     "end_time": "2022-09-20T13:02:11.654124",
     "exception": false,
     "start_time": "2022-09-20T13:02:11.592551",
     "status": "completed"
    },
    "tags": []
   },
   "outputs": [
    {
     "data": {
      "text/html": [
       "<div>\n",
       "<style scoped>\n",
       "    .dataframe tbody tr th:only-of-type {\n",
       "        vertical-align: middle;\n",
       "    }\n",
       "\n",
       "    .dataframe tbody tr th {\n",
       "        vertical-align: top;\n",
       "    }\n",
       "\n",
       "    .dataframe thead th {\n",
       "        text-align: right;\n",
       "    }\n",
       "</style>\n",
       "<table border=\"1\" class=\"dataframe\">\n",
       "  <thead>\n",
       "    <tr style=\"text-align: right;\">\n",
       "      <th></th>\n",
       "      <th>PassengerId</th>\n",
       "      <th>Survived</th>\n",
       "      <th>Pclass</th>\n",
       "      <th>Name</th>\n",
       "      <th>Sex</th>\n",
       "      <th>Age</th>\n",
       "      <th>SibSp</th>\n",
       "      <th>Parch</th>\n",
       "      <th>Ticket</th>\n",
       "      <th>Fare</th>\n",
       "      <th>Cabin</th>\n",
       "      <th>Embarked</th>\n",
       "    </tr>\n",
       "  </thead>\n",
       "  <tbody>\n",
       "    <tr>\n",
       "      <th>238</th>\n",
       "      <td>239</td>\n",
       "      <td>0</td>\n",
       "      <td>2</td>\n",
       "      <td>Pengelly, Mr. Frederick William</td>\n",
       "      <td>male</td>\n",
       "      <td>19.0</td>\n",
       "      <td>0</td>\n",
       "      <td>0</td>\n",
       "      <td>28665</td>\n",
       "      <td>10.5000</td>\n",
       "      <td>NaN</td>\n",
       "      <td>S</td>\n",
       "    </tr>\n",
       "    <tr>\n",
       "      <th>532</th>\n",
       "      <td>533</td>\n",
       "      <td>0</td>\n",
       "      <td>3</td>\n",
       "      <td>Elias, Mr. Joseph Jr</td>\n",
       "      <td>male</td>\n",
       "      <td>17.0</td>\n",
       "      <td>1</td>\n",
       "      <td>1</td>\n",
       "      <td>2690</td>\n",
       "      <td>7.2292</td>\n",
       "      <td>NaN</td>\n",
       "      <td>C</td>\n",
       "    </tr>\n",
       "    <tr>\n",
       "      <th>35</th>\n",
       "      <td>36</td>\n",
       "      <td>0</td>\n",
       "      <td>1</td>\n",
       "      <td>Holverson, Mr. Alexander Oskar</td>\n",
       "      <td>male</td>\n",
       "      <td>42.0</td>\n",
       "      <td>1</td>\n",
       "      <td>0</td>\n",
       "      <td>113789</td>\n",
       "      <td>52.0000</td>\n",
       "      <td>NaN</td>\n",
       "      <td>S</td>\n",
       "    </tr>\n",
       "    <tr>\n",
       "      <th>791</th>\n",
       "      <td>792</td>\n",
       "      <td>0</td>\n",
       "      <td>2</td>\n",
       "      <td>Gaskell, Mr. Alfred</td>\n",
       "      <td>male</td>\n",
       "      <td>16.0</td>\n",
       "      <td>0</td>\n",
       "      <td>0</td>\n",
       "      <td>239865</td>\n",
       "      <td>26.0000</td>\n",
       "      <td>NaN</td>\n",
       "      <td>S</td>\n",
       "    </tr>\n",
       "    <tr>\n",
       "      <th>621</th>\n",
       "      <td>622</td>\n",
       "      <td>1</td>\n",
       "      <td>1</td>\n",
       "      <td>Kimball, Mr. Edwin Nelson Jr</td>\n",
       "      <td>male</td>\n",
       "      <td>42.0</td>\n",
       "      <td>1</td>\n",
       "      <td>0</td>\n",
       "      <td>11753</td>\n",
       "      <td>52.5542</td>\n",
       "      <td>D19</td>\n",
       "      <td>S</td>\n",
       "    </tr>\n",
       "  </tbody>\n",
       "</table>\n",
       "</div>"
      ],
      "text/plain": [
       "     PassengerId  Survived  Pclass                             Name   Sex  \\\n",
       "238          239         0       2  Pengelly, Mr. Frederick William  male   \n",
       "532          533         0       3             Elias, Mr. Joseph Jr  male   \n",
       "35            36         0       1   Holverson, Mr. Alexander Oskar  male   \n",
       "791          792         0       2              Gaskell, Mr. Alfred  male   \n",
       "621          622         1       1     Kimball, Mr. Edwin Nelson Jr  male   \n",
       "\n",
       "      Age  SibSp  Parch  Ticket     Fare Cabin Embarked  \n",
       "238  19.0      0      0   28665  10.5000   NaN        S  \n",
       "532  17.0      1      1    2690   7.2292   NaN        C  \n",
       "35   42.0      1      0  113789  52.0000   NaN        S  \n",
       "791  16.0      0      0  239865  26.0000   NaN        S  \n",
       "621  42.0      1      0   11753  52.5542   D19        S  "
      ]
     },
     "execution_count": 2,
     "metadata": {},
     "output_type": "execute_result"
    }
   ],
   "source": [
    "#kaggle competitions download -c titanic\n",
    "train = pd.read_csv('../input/titanic/train.csv')\n",
    "train.sample(5)"
   ]
  },
  {
   "cell_type": "code",
   "execution_count": 3,
   "id": "df3aeb1d",
   "metadata": {
    "execution": {
     "iopub.execute_input": "2022-09-20T13:02:11.670221Z",
     "iopub.status.busy": "2022-09-20T13:02:11.669329Z",
     "iopub.status.idle": "2022-09-20T13:02:11.676683Z",
     "shell.execute_reply": "2022-09-20T13:02:11.675712Z"
    },
    "papermill": {
     "duration": 0.017482,
     "end_time": "2022-09-20T13:02:11.678634",
     "exception": false,
     "start_time": "2022-09-20T13:02:11.661152",
     "status": "completed"
    },
    "tags": []
   },
   "outputs": [
    {
     "data": {
      "text/plain": [
       "(891, 12)"
      ]
     },
     "execution_count": 3,
     "metadata": {},
     "output_type": "execute_result"
    }
   ],
   "source": [
    "train.shape"
   ]
  },
  {
   "cell_type": "code",
   "execution_count": null,
   "id": "738f0836",
   "metadata": {
    "papermill": {
     "duration": 0.00668,
     "end_time": "2022-09-20T13:02:11.692260",
     "exception": false,
     "start_time": "2022-09-20T13:02:11.685580",
     "status": "completed"
    },
    "tags": []
   },
   "outputs": [],
   "source": []
  },
  {
   "cell_type": "code",
   "execution_count": 4,
   "id": "bf7dbcbd",
   "metadata": {
    "execution": {
     "iopub.execute_input": "2022-09-20T13:02:11.708432Z",
     "iopub.status.busy": "2022-09-20T13:02:11.707774Z",
     "iopub.status.idle": "2022-09-20T13:02:12.977040Z",
     "shell.execute_reply": "2022-09-20T13:02:12.975768Z"
    },
    "papermill": {
     "duration": 1.281524,
     "end_time": "2022-09-20T13:02:12.980860",
     "exception": false,
     "start_time": "2022-09-20T13:02:11.699336",
     "status": "completed"
    },
    "tags": []
   },
   "outputs": [],
   "source": [
    "from sklearn.model_selection import GridSearchCV\n",
    "from sklearn.compose import ColumnTransformer\n",
    "from sklearn.pipeline import Pipeline\n",
    "from sklearn.impute import SimpleImputer\n",
    "from sklearn.linear_model import LogisticRegression\n",
    "from sklearn.preprocessing import StandardScaler,OneHotEncoder ,OrdinalEncoder"
   ]
  },
  {
   "cell_type": "code",
   "execution_count": 5,
   "id": "1038307a",
   "metadata": {
    "execution": {
     "iopub.execute_input": "2022-09-20T13:02:12.998726Z",
     "iopub.status.busy": "2022-09-20T13:02:12.998065Z",
     "iopub.status.idle": "2022-09-20T13:02:13.010362Z",
     "shell.execute_reply": "2022-09-20T13:02:13.009126Z"
    },
    "papermill": {
     "duration": 0.023943,
     "end_time": "2022-09-20T13:02:13.012823",
     "exception": false,
     "start_time": "2022-09-20T13:02:12.988880",
     "status": "completed"
    },
    "tags": []
   },
   "outputs": [
    {
     "data": {
      "text/plain": [
       "PassengerId      0\n",
       "Survived         0\n",
       "Pclass           0\n",
       "Name             0\n",
       "Sex              0\n",
       "Age            177\n",
       "SibSp            0\n",
       "Parch            0\n",
       "Ticket           0\n",
       "Fare             0\n",
       "Cabin          687\n",
       "Embarked         2\n",
       "dtype: int64"
      ]
     },
     "execution_count": 5,
     "metadata": {},
     "output_type": "execute_result"
    }
   ],
   "source": [
    "train.isna().sum()"
   ]
  },
  {
   "cell_type": "code",
   "execution_count": 6,
   "id": "cc2f9e26",
   "metadata": {
    "execution": {
     "iopub.execute_input": "2022-09-20T13:02:13.029460Z",
     "iopub.status.busy": "2022-09-20T13:02:13.029012Z",
     "iopub.status.idle": "2022-09-20T13:02:13.044396Z",
     "shell.execute_reply": "2022-09-20T13:02:13.043286Z"
    },
    "papermill": {
     "duration": 0.026451,
     "end_time": "2022-09-20T13:02:13.046612",
     "exception": false,
     "start_time": "2022-09-20T13:02:13.020161",
     "status": "completed"
    },
    "tags": []
   },
   "outputs": [
    {
     "data": {
      "text/plain": [
       "S    644\n",
       "C    168\n",
       "Q     77\n",
       "Name: Embarked, dtype: int64"
      ]
     },
     "execution_count": 6,
     "metadata": {},
     "output_type": "execute_result"
    }
   ],
   "source": [
    "train['Embarked'].value_counts()"
   ]
  },
  {
   "cell_type": "code",
   "execution_count": 7,
   "id": "8d86c8dc",
   "metadata": {
    "execution": {
     "iopub.execute_input": "2022-09-20T13:02:13.063399Z",
     "iopub.status.busy": "2022-09-20T13:02:13.062409Z",
     "iopub.status.idle": "2022-09-20T13:02:13.069360Z",
     "shell.execute_reply": "2022-09-20T13:02:13.068432Z"
    },
    "papermill": {
     "duration": 0.01772,
     "end_time": "2022-09-20T13:02:13.071747",
     "exception": false,
     "start_time": "2022-09-20T13:02:13.054027",
     "status": "completed"
    },
    "tags": []
   },
   "outputs": [],
   "source": [
    "# feature selection\n",
    "train.drop(columns=['PassengerId','Name','Ticket','Cabin'],inplace=True)\n"
   ]
  },
  {
   "cell_type": "code",
   "execution_count": 8,
   "id": "c01283e8",
   "metadata": {
    "execution": {
     "iopub.execute_input": "2022-09-20T13:02:13.088684Z",
     "iopub.status.busy": "2022-09-20T13:02:13.088285Z",
     "iopub.status.idle": "2022-09-20T13:02:13.094792Z",
     "shell.execute_reply": "2022-09-20T13:02:13.093721Z"
    },
    "papermill": {
     "duration": 0.017892,
     "end_time": "2022-09-20T13:02:13.096879",
     "exception": false,
     "start_time": "2022-09-20T13:02:13.078987",
     "status": "completed"
    },
    "tags": []
   },
   "outputs": [],
   "source": [
    "#split input and output columns\n",
    "x_train=train.drop(columns=['Survived'])\n",
    "y_train=train['Survived']"
   ]
  },
  {
   "cell_type": "code",
   "execution_count": 9,
   "id": "fb8377fc",
   "metadata": {
    "execution": {
     "iopub.execute_input": "2022-09-20T13:02:13.112647Z",
     "iopub.status.busy": "2022-09-20T13:02:13.112247Z",
     "iopub.status.idle": "2022-09-20T13:02:13.125382Z",
     "shell.execute_reply": "2022-09-20T13:02:13.124516Z"
    },
    "papermill": {
     "duration": 0.023407,
     "end_time": "2022-09-20T13:02:13.127367",
     "exception": false,
     "start_time": "2022-09-20T13:02:13.103960",
     "status": "completed"
    },
    "tags": []
   },
   "outputs": [
    {
     "data": {
      "text/html": [
       "<div>\n",
       "<style scoped>\n",
       "    .dataframe tbody tr th:only-of-type {\n",
       "        vertical-align: middle;\n",
       "    }\n",
       "\n",
       "    .dataframe tbody tr th {\n",
       "        vertical-align: top;\n",
       "    }\n",
       "\n",
       "    .dataframe thead th {\n",
       "        text-align: right;\n",
       "    }\n",
       "</style>\n",
       "<table border=\"1\" class=\"dataframe\">\n",
       "  <thead>\n",
       "    <tr style=\"text-align: right;\">\n",
       "      <th></th>\n",
       "      <th>Pclass</th>\n",
       "      <th>Sex</th>\n",
       "      <th>Age</th>\n",
       "      <th>SibSp</th>\n",
       "      <th>Parch</th>\n",
       "      <th>Fare</th>\n",
       "      <th>Embarked</th>\n",
       "    </tr>\n",
       "  </thead>\n",
       "  <tbody>\n",
       "    <tr>\n",
       "      <th>0</th>\n",
       "      <td>3</td>\n",
       "      <td>male</td>\n",
       "      <td>22.0</td>\n",
       "      <td>1</td>\n",
       "      <td>0</td>\n",
       "      <td>7.2500</td>\n",
       "      <td>S</td>\n",
       "    </tr>\n",
       "    <tr>\n",
       "      <th>1</th>\n",
       "      <td>1</td>\n",
       "      <td>female</td>\n",
       "      <td>38.0</td>\n",
       "      <td>1</td>\n",
       "      <td>0</td>\n",
       "      <td>71.2833</td>\n",
       "      <td>C</td>\n",
       "    </tr>\n",
       "    <tr>\n",
       "      <th>2</th>\n",
       "      <td>3</td>\n",
       "      <td>female</td>\n",
       "      <td>26.0</td>\n",
       "      <td>0</td>\n",
       "      <td>0</td>\n",
       "      <td>7.9250</td>\n",
       "      <td>S</td>\n",
       "    </tr>\n",
       "    <tr>\n",
       "      <th>3</th>\n",
       "      <td>1</td>\n",
       "      <td>female</td>\n",
       "      <td>35.0</td>\n",
       "      <td>1</td>\n",
       "      <td>0</td>\n",
       "      <td>53.1000</td>\n",
       "      <td>S</td>\n",
       "    </tr>\n",
       "    <tr>\n",
       "      <th>4</th>\n",
       "      <td>3</td>\n",
       "      <td>male</td>\n",
       "      <td>35.0</td>\n",
       "      <td>0</td>\n",
       "      <td>0</td>\n",
       "      <td>8.0500</td>\n",
       "      <td>S</td>\n",
       "    </tr>\n",
       "  </tbody>\n",
       "</table>\n",
       "</div>"
      ],
      "text/plain": [
       "   Pclass     Sex   Age  SibSp  Parch     Fare Embarked\n",
       "0       3    male  22.0      1      0   7.2500        S\n",
       "1       1  female  38.0      1      0  71.2833        C\n",
       "2       3  female  26.0      0      0   7.9250        S\n",
       "3       1  female  35.0      1      0  53.1000        S\n",
       "4       3    male  35.0      0      0   8.0500        S"
      ]
     },
     "execution_count": 9,
     "metadata": {},
     "output_type": "execute_result"
    }
   ],
   "source": [
    "x_train.head()"
   ]
  },
  {
   "cell_type": "code",
   "execution_count": 10,
   "id": "67be59a9",
   "metadata": {
    "execution": {
     "iopub.execute_input": "2022-09-20T13:02:13.143652Z",
     "iopub.status.busy": "2022-09-20T13:02:13.143234Z",
     "iopub.status.idle": "2022-09-20T13:02:13.152931Z",
     "shell.execute_reply": "2022-09-20T13:02:13.151983Z"
    },
    "papermill": {
     "duration": 0.020297,
     "end_time": "2022-09-20T13:02:13.155085",
     "exception": false,
     "start_time": "2022-09-20T13:02:13.134788",
     "status": "completed"
    },
    "tags": []
   },
   "outputs": [
    {
     "data": {
      "text/plain": [
       "Pclass        0\n",
       "Sex           0\n",
       "Age         177\n",
       "SibSp         0\n",
       "Parch         0\n",
       "Fare          0\n",
       "Embarked      2\n",
       "dtype: int64"
      ]
     },
     "execution_count": 10,
     "metadata": {},
     "output_type": "execute_result"
    }
   ],
   "source": [
    "x_train.isna().sum()"
   ]
  },
  {
   "cell_type": "code",
   "execution_count": 11,
   "id": "e7055c4c",
   "metadata": {
    "execution": {
     "iopub.execute_input": "2022-09-20T13:02:13.171529Z",
     "iopub.status.busy": "2022-09-20T13:02:13.171101Z",
     "iopub.status.idle": "2022-09-20T13:02:13.177706Z",
     "shell.execute_reply": "2022-09-20T13:02:13.176639Z"
    },
    "papermill": {
     "duration": 0.017516,
     "end_time": "2022-09-20T13:02:13.179957",
     "exception": false,
     "start_time": "2022-09-20T13:02:13.162441",
     "status": "completed"
    },
    "tags": []
   },
   "outputs": [],
   "source": [
    "x_train['Embarked'].mode()\n",
    "x_train['Embarked'].fillna('S',inplace=True)"
   ]
  },
  {
   "cell_type": "code",
   "execution_count": 12,
   "id": "12a1a23f",
   "metadata": {
    "execution": {
     "iopub.execute_input": "2022-09-20T13:02:13.196815Z",
     "iopub.status.busy": "2022-09-20T13:02:13.196413Z",
     "iopub.status.idle": "2022-09-20T13:02:13.209790Z",
     "shell.execute_reply": "2022-09-20T13:02:13.208664Z"
    },
    "papermill": {
     "duration": 0.024664,
     "end_time": "2022-09-20T13:02:13.212126",
     "exception": false,
     "start_time": "2022-09-20T13:02:13.187462",
     "status": "completed"
    },
    "tags": []
   },
   "outputs": [
    {
     "data": {
      "text/html": [
       "<div>\n",
       "<style scoped>\n",
       "    .dataframe tbody tr th:only-of-type {\n",
       "        vertical-align: middle;\n",
       "    }\n",
       "\n",
       "    .dataframe tbody tr th {\n",
       "        vertical-align: top;\n",
       "    }\n",
       "\n",
       "    .dataframe thead th {\n",
       "        text-align: right;\n",
       "    }\n",
       "</style>\n",
       "<table border=\"1\" class=\"dataframe\">\n",
       "  <thead>\n",
       "    <tr style=\"text-align: right;\">\n",
       "      <th></th>\n",
       "      <th>Pclass</th>\n",
       "      <th>Sex</th>\n",
       "      <th>Age</th>\n",
       "      <th>SibSp</th>\n",
       "      <th>Parch</th>\n",
       "      <th>Fare</th>\n",
       "      <th>Embarked</th>\n",
       "    </tr>\n",
       "  </thead>\n",
       "  <tbody>\n",
       "    <tr>\n",
       "      <th>0</th>\n",
       "      <td>3</td>\n",
       "      <td>male</td>\n",
       "      <td>22.0</td>\n",
       "      <td>1</td>\n",
       "      <td>0</td>\n",
       "      <td>7.2500</td>\n",
       "      <td>S</td>\n",
       "    </tr>\n",
       "    <tr>\n",
       "      <th>1</th>\n",
       "      <td>1</td>\n",
       "      <td>female</td>\n",
       "      <td>38.0</td>\n",
       "      <td>1</td>\n",
       "      <td>0</td>\n",
       "      <td>71.2833</td>\n",
       "      <td>C</td>\n",
       "    </tr>\n",
       "    <tr>\n",
       "      <th>2</th>\n",
       "      <td>3</td>\n",
       "      <td>female</td>\n",
       "      <td>26.0</td>\n",
       "      <td>0</td>\n",
       "      <td>0</td>\n",
       "      <td>7.9250</td>\n",
       "      <td>S</td>\n",
       "    </tr>\n",
       "    <tr>\n",
       "      <th>3</th>\n",
       "      <td>1</td>\n",
       "      <td>female</td>\n",
       "      <td>35.0</td>\n",
       "      <td>1</td>\n",
       "      <td>0</td>\n",
       "      <td>53.1000</td>\n",
       "      <td>S</td>\n",
       "    </tr>\n",
       "    <tr>\n",
       "      <th>4</th>\n",
       "      <td>3</td>\n",
       "      <td>male</td>\n",
       "      <td>35.0</td>\n",
       "      <td>0</td>\n",
       "      <td>0</td>\n",
       "      <td>8.0500</td>\n",
       "      <td>S</td>\n",
       "    </tr>\n",
       "  </tbody>\n",
       "</table>\n",
       "</div>"
      ],
      "text/plain": [
       "   Pclass     Sex   Age  SibSp  Parch     Fare Embarked\n",
       "0       3    male  22.0      1      0   7.2500        S\n",
       "1       1  female  38.0      1      0  71.2833        C\n",
       "2       3  female  26.0      0      0   7.9250        S\n",
       "3       1  female  35.0      1      0  53.1000        S\n",
       "4       3    male  35.0      0      0   8.0500        S"
      ]
     },
     "execution_count": 12,
     "metadata": {},
     "output_type": "execute_result"
    }
   ],
   "source": [
    "x_train.head()"
   ]
  },
  {
   "cell_type": "code",
   "execution_count": 13,
   "id": "88a9b4c0",
   "metadata": {
    "execution": {
     "iopub.execute_input": "2022-09-20T13:02:13.229192Z",
     "iopub.status.busy": "2022-09-20T13:02:13.228832Z",
     "iopub.status.idle": "2022-09-20T13:02:13.234837Z",
     "shell.execute_reply": "2022-09-20T13:02:13.233809Z"
    },
    "papermill": {
     "duration": 0.017172,
     "end_time": "2022-09-20T13:02:13.237074",
     "exception": false,
     "start_time": "2022-09-20T13:02:13.219902",
     "status": "completed"
    },
    "tags": []
   },
   "outputs": [],
   "source": [
    "# handling missing data and scale numerical data\n",
    "numerical_data=['Age','Fare']\n",
    "numerical_transformer=Pipeline(steps=[\n",
    "    ('imputer',SimpleImputer(strategy='mean')),\n",
    "    ('scaler', StandardScaler())\n",
    "]) \n",
    "#here embarked have missing values\n",
    "categorical_data = ['Embarked', 'Sex', 'Pclass']\n",
    "categorical_transformer = Pipeline(steps=[\n",
    "    ('imputer', SimpleImputer(strategy='constant', fill_value='missing')),\n",
    "    ('onehot', OneHotEncoder(handle_unknown='ignore'))])"
   ]
  },
  {
   "cell_type": "code",
   "execution_count": 14,
   "id": "5f62d5bd",
   "metadata": {
    "execution": {
     "iopub.execute_input": "2022-09-20T13:02:13.254213Z",
     "iopub.status.busy": "2022-09-20T13:02:13.253423Z",
     "iopub.status.idle": "2022-09-20T13:02:13.258642Z",
     "shell.execute_reply": "2022-09-20T13:02:13.257644Z"
    },
    "papermill": {
     "duration": 0.016106,
     "end_time": "2022-09-20T13:02:13.260776",
     "exception": false,
     "start_time": "2022-09-20T13:02:13.244670",
     "status": "completed"
    },
    "tags": []
   },
   "outputs": [],
   "source": [
    "preprocessor = ColumnTransformer(\n",
    "     transformers=[\n",
    "         ('num',numerical_transformer,numerical_data),\n",
    "         ('cat',categorical_transformer,categorical_data)\n",
    "     ]\n",
    ")"
   ]
  },
  {
   "cell_type": "code",
   "execution_count": null,
   "id": "c0930f0d",
   "metadata": {
    "papermill": {
     "duration": 0.007381,
     "end_time": "2022-09-20T13:02:13.275899",
     "exception": false,
     "start_time": "2022-09-20T13:02:13.268518",
     "status": "completed"
    },
    "tags": []
   },
   "outputs": [],
   "source": []
  },
  {
   "cell_type": "code",
   "execution_count": 15,
   "id": "8a0a96a6",
   "metadata": {
    "execution": {
     "iopub.execute_input": "2022-09-20T13:02:13.292921Z",
     "iopub.status.busy": "2022-09-20T13:02:13.292250Z",
     "iopub.status.idle": "2022-09-20T13:02:13.315713Z",
     "shell.execute_reply": "2022-09-20T13:02:13.314742Z"
    },
    "papermill": {
     "duration": 0.034442,
     "end_time": "2022-09-20T13:02:13.317880",
     "exception": false,
     "start_time": "2022-09-20T13:02:13.283438",
     "status": "completed"
    },
    "tags": []
   },
   "outputs": [
    {
     "data": {
      "text/html": [
       "<div>\n",
       "<style scoped>\n",
       "    .dataframe tbody tr th:only-of-type {\n",
       "        vertical-align: middle;\n",
       "    }\n",
       "\n",
       "    .dataframe tbody tr th {\n",
       "        vertical-align: top;\n",
       "    }\n",
       "\n",
       "    .dataframe thead th {\n",
       "        text-align: right;\n",
       "    }\n",
       "</style>\n",
       "<table border=\"1\" class=\"dataframe\">\n",
       "  <thead>\n",
       "    <tr style=\"text-align: right;\">\n",
       "      <th></th>\n",
       "      <th>Pclass</th>\n",
       "      <th>Sex</th>\n",
       "      <th>Age</th>\n",
       "      <th>SibSp</th>\n",
       "      <th>Parch</th>\n",
       "      <th>Fare</th>\n",
       "      <th>Embarked</th>\n",
       "    </tr>\n",
       "  </thead>\n",
       "  <tbody>\n",
       "    <tr>\n",
       "      <th>0</th>\n",
       "      <td>3</td>\n",
       "      <td>male</td>\n",
       "      <td>34.5</td>\n",
       "      <td>0</td>\n",
       "      <td>0</td>\n",
       "      <td>7.8292</td>\n",
       "      <td>Q</td>\n",
       "    </tr>\n",
       "    <tr>\n",
       "      <th>1</th>\n",
       "      <td>3</td>\n",
       "      <td>female</td>\n",
       "      <td>47.0</td>\n",
       "      <td>1</td>\n",
       "      <td>0</td>\n",
       "      <td>7.0000</td>\n",
       "      <td>S</td>\n",
       "    </tr>\n",
       "    <tr>\n",
       "      <th>2</th>\n",
       "      <td>2</td>\n",
       "      <td>male</td>\n",
       "      <td>62.0</td>\n",
       "      <td>0</td>\n",
       "      <td>0</td>\n",
       "      <td>9.6875</td>\n",
       "      <td>Q</td>\n",
       "    </tr>\n",
       "    <tr>\n",
       "      <th>3</th>\n",
       "      <td>3</td>\n",
       "      <td>male</td>\n",
       "      <td>27.0</td>\n",
       "      <td>0</td>\n",
       "      <td>0</td>\n",
       "      <td>8.6625</td>\n",
       "      <td>S</td>\n",
       "    </tr>\n",
       "    <tr>\n",
       "      <th>4</th>\n",
       "      <td>3</td>\n",
       "      <td>female</td>\n",
       "      <td>22.0</td>\n",
       "      <td>1</td>\n",
       "      <td>1</td>\n",
       "      <td>12.2875</td>\n",
       "      <td>S</td>\n",
       "    </tr>\n",
       "  </tbody>\n",
       "</table>\n",
       "</div>"
      ],
      "text/plain": [
       "   Pclass     Sex   Age  SibSp  Parch     Fare Embarked\n",
       "0       3    male  34.5      0      0   7.8292        Q\n",
       "1       3  female  47.0      1      0   7.0000        S\n",
       "2       2    male  62.0      0      0   9.6875        Q\n",
       "3       3    male  27.0      0      0   8.6625        S\n",
       "4       3  female  22.0      1      1  12.2875        S"
      ]
     },
     "execution_count": 15,
     "metadata": {},
     "output_type": "execute_result"
    }
   ],
   "source": [
    "test = pd.read_csv('../input/titanic/test.csv')\n",
    "test.drop(columns=['PassengerId','Name','Ticket','Cabin'],inplace=True)\n",
    "x_test=test\n",
    "x_test.head()"
   ]
  },
  {
   "cell_type": "code",
   "execution_count": 16,
   "id": "83596ebf",
   "metadata": {
    "execution": {
     "iopub.execute_input": "2022-09-20T13:02:13.335571Z",
     "iopub.status.busy": "2022-09-20T13:02:13.334667Z",
     "iopub.status.idle": "2022-09-20T13:02:13.401305Z",
     "shell.execute_reply": "2022-09-20T13:02:13.400460Z"
    },
    "papermill": {
     "duration": 0.078356,
     "end_time": "2022-09-20T13:02:13.404091",
     "exception": false,
     "start_time": "2022-09-20T13:02:13.325735",
     "status": "completed"
    },
    "tags": []
   },
   "outputs": [
    {
     "data": {
      "text/plain": [
       "Pipeline(steps=[('preprocessor',\n",
       "                 ColumnTransformer(transformers=[('num',\n",
       "                                                  Pipeline(steps=[('imputer',\n",
       "                                                                   SimpleImputer()),\n",
       "                                                                  ('scaler',\n",
       "                                                                   StandardScaler())]),\n",
       "                                                  ['Age', 'Fare']),\n",
       "                                                 ('cat',\n",
       "                                                  Pipeline(steps=[('imputer',\n",
       "                                                                   SimpleImputer(fill_value='missing',\n",
       "                                                                                 strategy='constant')),\n",
       "                                                                  ('onehot',\n",
       "                                                                   OneHotEncoder(handle_unknown='ignore'))]),\n",
       "                                                  ['Embarked', 'Sex',\n",
       "                                                   'Pclass'])])),\n",
       "                ('classifier', LogisticRegression())])"
      ]
     },
     "execution_count": 16,
     "metadata": {},
     "output_type": "execute_result"
    }
   ],
   "source": [
    "clf= Pipeline(steps=[\n",
    "    ('preprocessor',preprocessor),\n",
    "    ('classifier',LogisticRegression())\n",
    "])\n",
    "clf.fit(x_train, y_train)\n"
   ]
  },
  {
   "cell_type": "code",
   "execution_count": 17,
   "id": "5663d3c6",
   "metadata": {
    "execution": {
     "iopub.execute_input": "2022-09-20T13:02:13.426649Z",
     "iopub.status.busy": "2022-09-20T13:02:13.425586Z",
     "iopub.status.idle": "2022-09-20T13:02:13.431062Z",
     "shell.execute_reply": "2022-09-20T13:02:13.430251Z"
    },
    "papermill": {
     "duration": 0.0193,
     "end_time": "2022-09-20T13:02:13.433588",
     "exception": false,
     "start_time": "2022-09-20T13:02:13.414288",
     "status": "completed"
    },
    "tags": []
   },
   "outputs": [],
   "source": [
    "param_grid={\n",
    "    'preprocessor__num__imputer__strategy':['mean','median'],\n",
    "        'preprocessor__cat__imputer__strategy':['most_frequent','constant'],\n",
    "\n",
    "    'classifier__C':[0.1,1.0,10,100]\n",
    "}\n",
    "grid_search=GridSearchCV(clf,param_grid,cv=10)"
   ]
  },
  {
   "cell_type": "code",
   "execution_count": null,
   "id": "bafc6fbd",
   "metadata": {
    "papermill": {
     "duration": 0.009495,
     "end_time": "2022-09-20T13:02:13.453632",
     "exception": false,
     "start_time": "2022-09-20T13:02:13.444137",
     "status": "completed"
    },
    "tags": []
   },
   "outputs": [],
   "source": []
  },
  {
   "cell_type": "code",
   "execution_count": 18,
   "id": "b7432924",
   "metadata": {
    "execution": {
     "iopub.execute_input": "2022-09-20T13:02:13.475241Z",
     "iopub.status.busy": "2022-09-20T13:02:13.474547Z",
     "iopub.status.idle": "2022-09-20T13:02:17.949113Z",
     "shell.execute_reply": "2022-09-20T13:02:17.947877Z"
    },
    "papermill": {
     "duration": 4.486876,
     "end_time": "2022-09-20T13:02:17.951806",
     "exception": false,
     "start_time": "2022-09-20T13:02:13.464930",
     "status": "completed"
    },
    "tags": []
   },
   "outputs": [
    {
     "name": "stdout",
     "output_type": "stream",
     "text": [
      "best param is:\n",
      "{'classifier__C': 0.1, 'preprocessor__cat__imputer__strategy': 'most_frequent', 'preprocessor__num__imputer__strategy': 'mean'}\n"
     ]
    }
   ],
   "source": [
    "grid_search.fit(x_train,y_train)\n",
    "print(\"best param is:\")\n",
    "print(grid_search.best_params_)"
   ]
  },
  {
   "cell_type": "code",
   "execution_count": 19,
   "id": "57849bb4",
   "metadata": {
    "execution": {
     "iopub.execute_input": "2022-09-20T13:02:17.970101Z",
     "iopub.status.busy": "2022-09-20T13:02:17.969173Z",
     "iopub.status.idle": "2022-09-20T13:02:17.975540Z",
     "shell.execute_reply": "2022-09-20T13:02:17.974007Z"
    },
    "papermill": {
     "duration": 0.018162,
     "end_time": "2022-09-20T13:02:17.978128",
     "exception": false,
     "start_time": "2022-09-20T13:02:17.959966",
     "status": "completed"
    },
    "tags": []
   },
   "outputs": [
    {
     "name": "stdout",
     "output_type": "stream",
     "text": [
      "Internal CV score:0.797\n"
     ]
    }
   ],
   "source": [
    "print(f\"Internal CV score:{grid_search.best_score_:.3f}\")"
   ]
  },
  {
   "cell_type": "code",
   "execution_count": 20,
   "id": "d95311d9",
   "metadata": {
    "execution": {
     "iopub.execute_input": "2022-09-20T13:02:17.996184Z",
     "iopub.status.busy": "2022-09-20T13:02:17.995783Z",
     "iopub.status.idle": "2022-09-20T13:02:18.030328Z",
     "shell.execute_reply": "2022-09-20T13:02:18.029028Z"
    },
    "papermill": {
     "duration": 0.047283,
     "end_time": "2022-09-20T13:02:18.033665",
     "exception": false,
     "start_time": "2022-09-20T13:02:17.986382",
     "status": "completed"
    },
    "tags": []
   },
   "outputs": [
    {
     "name": "stdout",
     "output_type": "stream",
     "text": [
      "best score:  0.7901234567901234\n"
     ]
    }
   ],
   "source": [
    "clf.fit(x_train,y_train)\n",
    "print(\"best score: \", clf.score(x_train,y_train))\n"
   ]
  },
  {
   "cell_type": "code",
   "execution_count": 21,
   "id": "bbe8e7f2",
   "metadata": {
    "execution": {
     "iopub.execute_input": "2022-09-20T13:02:18.052979Z",
     "iopub.status.busy": "2022-09-20T13:02:18.051821Z",
     "iopub.status.idle": "2022-09-20T13:02:18.068746Z",
     "shell.execute_reply": "2022-09-20T13:02:18.067551Z"
    },
    "papermill": {
     "duration": 0.028674,
     "end_time": "2022-09-20T13:02:18.071020",
     "exception": false,
     "start_time": "2022-09-20T13:02:18.042346",
     "status": "completed"
    },
    "tags": []
   },
   "outputs": [
    {
     "data": {
      "text/html": [
       "<div>\n",
       "<style scoped>\n",
       "    .dataframe tbody tr th:only-of-type {\n",
       "        vertical-align: middle;\n",
       "    }\n",
       "\n",
       "    .dataframe tbody tr th {\n",
       "        vertical-align: top;\n",
       "    }\n",
       "\n",
       "    .dataframe thead th {\n",
       "        text-align: right;\n",
       "    }\n",
       "</style>\n",
       "<table border=\"1\" class=\"dataframe\">\n",
       "  <thead>\n",
       "    <tr style=\"text-align: right;\">\n",
       "      <th></th>\n",
       "      <th>PassengerId</th>\n",
       "      <th>Survived</th>\n",
       "    </tr>\n",
       "  </thead>\n",
       "  <tbody>\n",
       "    <tr>\n",
       "      <th>141</th>\n",
       "      <td>1033</td>\n",
       "      <td>1</td>\n",
       "    </tr>\n",
       "    <tr>\n",
       "      <th>70</th>\n",
       "      <td>962</td>\n",
       "      <td>1</td>\n",
       "    </tr>\n",
       "    <tr>\n",
       "      <th>203</th>\n",
       "      <td>1095</td>\n",
       "      <td>1</td>\n",
       "    </tr>\n",
       "    <tr>\n",
       "      <th>387</th>\n",
       "      <td>1279</td>\n",
       "      <td>0</td>\n",
       "    </tr>\n",
       "    <tr>\n",
       "      <th>14</th>\n",
       "      <td>906</td>\n",
       "      <td>1</td>\n",
       "    </tr>\n",
       "  </tbody>\n",
       "</table>\n",
       "</div>"
      ],
      "text/plain": [
       "     PassengerId  Survived\n",
       "141         1033         1\n",
       "70           962         1\n",
       "203         1095         1\n",
       "387         1279         0\n",
       "14           906         1"
      ]
     },
     "execution_count": 21,
     "metadata": {},
     "output_type": "execute_result"
    }
   ],
   "source": [
    "gender_submission = pd.read_csv('../input/titanic/gender_submission.csv')\n",
    "gender_submission.sample(5)"
   ]
  },
  {
   "cell_type": "code",
   "execution_count": 22,
   "id": "666c1374",
   "metadata": {
    "execution": {
     "iopub.execute_input": "2022-09-20T13:02:18.089829Z",
     "iopub.status.busy": "2022-09-20T13:02:18.089196Z",
     "iopub.status.idle": "2022-09-20T13:02:18.103378Z",
     "shell.execute_reply": "2022-09-20T13:02:18.102603Z"
    },
    "papermill": {
     "duration": 0.025949,
     "end_time": "2022-09-20T13:02:18.105534",
     "exception": false,
     "start_time": "2022-09-20T13:02:18.079585",
     "status": "completed"
    },
    "tags": []
   },
   "outputs": [
    {
     "data": {
      "text/plain": [
       "array([0, 0, 0, 0, 1, 0, 1, 0, 1, 0, 0, 0, 1, 0, 1, 1, 0, 0, 1, 1, 0, 0,\n",
       "       1, 1, 1, 0, 1, 0, 0, 0, 0, 0, 0, 1, 1, 0, 1, 1, 0, 0, 0, 0, 0, 1,\n",
       "       1, 0, 0, 0, 1, 0, 0, 0, 1, 1, 0, 0, 0, 0, 0, 1, 0, 0, 0, 1, 1, 1,\n",
       "       1, 0, 1, 1, 1, 0, 1, 1, 1, 1, 0, 1, 0, 1, 0, 0, 0, 0, 0, 0, 1, 1,\n",
       "       1, 0, 1, 0, 1, 0, 1, 0, 1, 0, 1, 0, 1, 0, 0, 0, 1, 0, 0, 0, 0, 0,\n",
       "       0, 1, 1, 1, 1, 0, 0, 1, 1, 1, 1, 0, 1, 0, 0, 1, 0, 1, 0, 0, 0, 0,\n",
       "       1, 0, 0, 0, 0, 0, 1, 0, 1, 1, 0, 0, 0, 0, 0, 0, 0, 0, 1, 0, 0, 0,\n",
       "       0, 0, 1, 1, 0, 1, 1, 0, 1, 0, 0, 1, 0, 0, 1, 1, 0, 0, 0, 0, 0, 1,\n",
       "       1, 0, 1, 1, 0, 1, 1, 0, 1, 0, 1, 0, 1, 0, 0, 0, 0, 0, 0, 0, 1, 1,\n",
       "       0, 1, 1, 0, 0, 1, 0, 1, 1, 0, 1, 0, 0, 0, 0, 1, 0, 0, 1, 0, 1, 0,\n",
       "       1, 0, 1, 0, 1, 1, 0, 1, 0, 0, 0, 1, 0, 0, 0, 0, 0, 0, 1, 1, 1, 1,\n",
       "       0, 0, 0, 0, 1, 0, 1, 1, 1, 0, 1, 0, 0, 0, 0, 0, 1, 0, 0, 0, 1, 1,\n",
       "       0, 0, 0, 0, 1, 0, 0, 0, 1, 1, 0, 1, 0, 0, 0, 0, 1, 0, 1, 1, 1, 0,\n",
       "       0, 0, 0, 0, 0, 1, 0, 0, 0, 0, 1, 0, 0, 0, 0, 0, 0, 0, 1, 1, 0, 0,\n",
       "       0, 0, 0, 0, 0, 1, 1, 1, 0, 0, 0, 0, 0, 0, 0, 0, 1, 0, 1, 0, 0, 0,\n",
       "       1, 0, 0, 1, 0, 0, 0, 0, 0, 0, 0, 0, 0, 1, 0, 1, 0, 1, 0, 1, 1, 0,\n",
       "       0, 0, 1, 0, 1, 0, 0, 1, 0, 1, 1, 0, 1, 1, 0, 1, 1, 0, 0, 1, 0, 0,\n",
       "       1, 1, 1, 0, 0, 0, 0, 0, 1, 1, 0, 1, 0, 0, 0, 0, 0, 1, 0, 0, 0, 1,\n",
       "       0, 1, 0, 0, 1, 0, 1, 1, 0, 0, 0, 0, 1, 1, 1, 1, 1, 0, 1, 0, 0, 0])"
      ]
     },
     "execution_count": 22,
     "metadata": {},
     "output_type": "execute_result"
    }
   ],
   "source": [
    "predict_y=clf.predict(x_test)\n",
    "predict_y"
   ]
  },
  {
   "cell_type": "code",
   "execution_count": 23,
   "id": "cfa0d4e9",
   "metadata": {
    "execution": {
     "iopub.execute_input": "2022-09-20T13:02:18.125199Z",
     "iopub.status.busy": "2022-09-20T13:02:18.124486Z",
     "iopub.status.idle": "2022-09-20T13:02:18.133116Z",
     "shell.execute_reply": "2022-09-20T13:02:18.132267Z"
    },
    "papermill": {
     "duration": 0.02111,
     "end_time": "2022-09-20T13:02:18.135443",
     "exception": false,
     "start_time": "2022-09-20T13:02:18.114333",
     "status": "completed"
    },
    "tags": []
   },
   "outputs": [],
   "source": [
    "Submission = pd.DataFrame({'PassengerId':gender_submission['PassengerId'],\n",
    "                          'Survived':predict_y})\n",
    "Submission.to_csv('Submission.csv',index=False)"
   ]
  },
  {
   "cell_type": "code",
   "execution_count": null,
   "id": "fb3be79c",
   "metadata": {
    "papermill": {
     "duration": 0.008454,
     "end_time": "2022-09-20T13:02:18.153356",
     "exception": false,
     "start_time": "2022-09-20T13:02:18.144902",
     "status": "completed"
    },
    "tags": []
   },
   "outputs": [],
   "source": []
  }
 ],
 "metadata": {
  "kernelspec": {
   "display_name": "Python 3",
   "language": "python",
   "name": "python3"
  },
  "language_info": {
   "codemirror_mode": {
    "name": "ipython",
    "version": 3
   },
   "file_extension": ".py",
   "mimetype": "text/x-python",
   "name": "python",
   "nbconvert_exporter": "python",
   "pygments_lexer": "ipython3",
   "version": "3.7.12"
  },
  "papermill": {
   "default_parameters": {},
   "duration": 16.290607,
   "end_time": "2022-09-20T13:02:18.883368",
   "environment_variables": {},
   "exception": null,
   "input_path": "__notebook__.ipynb",
   "output_path": "__notebook__.ipynb",
   "parameters": {},
   "start_time": "2022-09-20T13:02:02.592761",
   "version": "2.3.4"
  }
 },
 "nbformat": 4,
 "nbformat_minor": 5
}
